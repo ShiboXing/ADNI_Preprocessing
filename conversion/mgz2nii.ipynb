{
 "cells": [
  {
   "cell_type": "code",
   "execution_count": 1,
   "metadata": {},
   "outputs": [
    {
     "name": "stdout",
     "output_type": "stream",
     "text": [
      "Populating the interactive namespace from numpy and matplotlib\n"
     ]
    }
   ],
   "source": [
    "%pylab inline\n",
    "import IPython.core.debugger as ipdb\n",
    "import argparse as argp\n",
    "import nibabel as nib\n",
    "import numpy as np\n",
    "import os \n",
    "from nilearn import plotting\n",
    "\n",
    "def dive(root):\n",
    "    print(root)\n",
    "    for f in os.listdir(root):\n",
    "        path = rf'{root}/{f}'\n",
    "        print(path)\n",
    "        if f.endswith('.mgz'):\n",
    "            nii_path = convert(root, f)\n",
    "            clean_space(path)\n",
    "        elif os.path.isdir(path):\n",
    "            dive(path)\n",
    "            \n",
    "def convert(root, f):\n",
    "    os.system(rf'mri_convert {root}/{f} {root}/image.nii')\n",
    "    return rf'mri_convert {root}/{f} {root}/image.nii'"
   ]
  },
  {
   "cell_type": "code",
   "execution_count": 2,
   "metadata": {},
   "outputs": [],
   "source": [
    "\n",
    "def clean_space(path):\n",
    "# clean the 0-intensity space surrounding the brain\n",
    "    img = nib.load(path)\n",
    "    np_img = np.array(img.get_fdata())\n",
    "    plotting.plot_img(img, title=\"X_Real\")\n",
    "    plotting.show()\n",
    "    \n",
    "    # clean X \n",
    "    x_len, y_len, z_len = len(np_img), len(np_img[0]), len(np_img[0, 0])\n",
    "    zero_mask = np.zeros((y_len, z_len)) \n",
    "    del_inds = []\n",
    "    for i in range(x_len):\n",
    "        if np.sum(np_img[i] != zero_mask) == 0:\n",
    "            del_inds.append(i)\n",
    "    np_img = np.delete(np_img, del_inds, 0)\n",
    "    # add paddings\n",
    "    np_img = np.insert(np_img, [0 for i in range(5)], zero_mask, 0)\n",
    "    np_img = np.insert(np_img, [len(np_img) for i in range(5)], zero_mask, 0)\n",
    "\n",
    "    # clean Y\n",
    "    x_len, y_len, z_len = len(np_img), len(np_img[0]), len(np_img[0, 0])\n",
    "    zero_mask = np.zeros((x_len, z_len)) \n",
    "    del_inds = []\n",
    "    for i in range(y_len):\n",
    "        if np.sum(np_img[:, i] != zero_mask) == 0:\n",
    "            del_inds.append(i)\n",
    "    np_img = np.delete(np.swapaxes(np_img, 0, 1), del_inds, 0)\n",
    "    np_img = np.swapaxes(np_img, 0, 1)\n",
    "    # add paddings\n",
    "    np_img = np.insert(np_img, [0 for i in range(5)], np.zeros(z_len), 1)\n",
    "    np_img = np.insert(np_img, [len(np_img[0]) for i in range(5)], np.zeros(z_len), 1)\n",
    "\n",
    "    # clean Z\n",
    "    x_len, y_len, z_len = len(np_img), len(np_img[0]), len(np_img[0, 0])\n",
    "    zero_mask = np.zeros((x_len, y_len)) \n",
    "    del_inds = []\n",
    "    for i in range(z_len):\n",
    "        if np.sum(np_img[:, :, i] != zero_mask) == 0:\n",
    "            del_inds.append(i)\n",
    "    np_img = np.delete(np.swapaxes(np_img, 0, 2), del_inds, 0)\n",
    "    np_img = np.swapaxes(np_img, 0, 2)\n",
    "    # add paddings\n",
    "    np_img = np.insert(np_img, [0 for i in range(5)], 0, 2)\n",
    "    np_img = np.insert(np_img, [len(np_img[0][0]) for i in range(5)], 0, 2)\n",
    "\n",
    "    # write to disk\n",
    "    feat = nib.Nifti1Image(np_img, img.affine)\n",
    "    nib.save(feat, path)\n",
    "    \n",
    "    # show image\n",
    "#     feat = nib.load('../../ADNI/002_S_0295/FreeSurfer_Cross-Sectional_Processing_brainmask/2006-04-18_08_20_30.0/S13408/mri/test.nii')\n",
    "#     plotting.plot_img(feat, title=\"X_Real\")\n",
    "#     plotting.show()\n",
    "    "
   ]
  },
  {
   "cell_type": "code",
   "execution_count": 3,
   "metadata": {},
   "outputs": [
    {
     "name": "stderr",
     "output_type": "stream",
     "text": [
      "usage: ipykernel_launcher.py [-h] path\n",
      "ipykernel_launcher.py: error: unrecognized arguments: -f\n"
     ]
    },
    {
     "ename": "SystemExit",
     "evalue": "2",
     "output_type": "error",
     "traceback": [
      "An exception has occurred, use %tb to see the full traceback.\n",
      "\u001b[0;31mSystemExit\u001b[0m\u001b[0;31m:\u001b[0m 2\n"
     ]
    },
    {
     "name": "stderr",
     "output_type": "stream",
     "text": [
      "/usr/local/miniconda3/envs/pytorch/lib/python3.8/site-packages/IPython/core/interactiveshell.py:3339: UserWarning: To exit: use 'exit', 'quit', or Ctrl-D.\n",
      "  warn(\"To exit: use 'exit', 'quit', or Ctrl-D.\", stacklevel=1)\n"
     ]
    }
   ],
   "source": [
    "if __name__ == '__main__':\n",
    "    parser = argp.ArgumentParser(description='convert .mgz files to .nii')\n",
    "    parser.add_argument('path', type=str, nargs=1)\n",
    "    args = parser.parse_args()\n",
    "    dive(args.path[0])\n",
    "    "
   ]
  },
  {
   "cell_type": "code",
   "execution_count": null,
   "metadata": {},
   "outputs": [],
   "source": [
    "clean_space('../../ADNI/002_S_0295/FreeSurfer_Cross-Sectional_Processing_brainmask/2006-04-18_08_20_30.0/S13408/mri/image.nii')"
   ]
  },
  {
   "cell_type": "code",
   "execution_count": null,
   "metadata": {},
   "outputs": [],
   "source": [
    "%debug\n"
   ]
  },
  {
   "cell_type": "code",
   "execution_count": null,
   "metadata": {},
   "outputs": [],
   "source": []
  },
  {
   "cell_type": "code",
   "execution_count": null,
   "metadata": {},
   "outputs": [],
   "source": []
  }
 ],
 "metadata": {
  "kernelspec": {
   "display_name": "pytorch",
   "language": "python",
   "name": "pytorch"
  },
  "language_info": {
   "codemirror_mode": {
    "name": "ipython",
    "version": 3
   },
   "file_extension": ".py",
   "mimetype": "text/x-python",
   "name": "python",
   "nbconvert_exporter": "python",
   "pygments_lexer": "ipython3",
   "version": "3.8.3"
  }
 },
 "nbformat": 4,
 "nbformat_minor": 2
}
