{
 "cells": [
  {
   "cell_type": "code",
   "execution_count": null,
   "metadata": {},
   "outputs": [],
   "source": [
    "import nibabel as nib\n",
    "import numpy as np\n",
    "import ipdb\n",
    "import os\n",
    "import csv\n",
    "import torch\n",
    "from nilearn import plotting\n",
    "from skimage.transform import resize\n",
    "from ipdb import set_trace"
   ]
  },
  {
   "cell_type": "code",
   "execution_count": null,
   "metadata": {},
   "outputs": [],
   "source": [
    "arr = range(0, 256, 14)\n",
    "path = '../ADNI/002_S_0295/FreeSurfer_Cross-Sectional_Processing_brainmask/2006-04-18_08_20_30.0/S13408/mri'\n",
    "# path = '../ADNI/002_S_0619/FreeSurfer_Cross-Sectional_Processing_brainmask/2007-06-22_07_06_17.0/S33969/mri'\n",
    "mgz_path = rf'{path}/brainmask.mgz'\n",
    "nii_path = rf'{path}/test_image.nii'\n",
    "padding = 0\n",
    "\n",
    "img = nib.load(mgz_path)\n",
    "np_img = np.array(img.get_fdata())\n",
    "plotting.plot_img(img,cut_coords=arr,draw_cross=False,annotate=False,black_bg=True,display_mode='x')\n",
    "plotting.plot_img(img,cut_coords=arr,draw_cross=False,annotate=False,black_bg=True,display_mode='y')\n",
    "plotting.plot_img(img,cut_coords=arr,draw_cross=False,annotate=False,black_bg=True,display_mode='z')\n",
    "plotting.show()\n",
    "arr = range(0, img.shape[0], img.shape[0] // 15)\n",
    "\n",
    "def clean_axis(np_img, path, axis=0):\n",
    "    x_len, y_len, z_len = len(np_img), len(np_img[0]), len(np_img[0, 0])\n",
    "    zero_mask = np.zeros(0)\n",
    "    del_inds = []\n",
    "    save_i = -1\n",
    "    iter_len = 0\n",
    "    continuity_warning = 0\n",
    "    \n",
    "    if axis == 0: \n",
    "        zero_mask = np.zeros((y_len, z_len))\n",
    "        iter_len = x_len\n",
    "    elif axis == 1: \n",
    "        zero_mask = np.zeros((x_len, z_len))\n",
    "        iter_len = y_len\n",
    "    elif axis == 2: \n",
    "        zero_mask = np.zeros((x_len, y_len))\n",
    "        iter_len = z_len\n",
    "    for i in range(iter_len):\n",
    "        plane = np.sum(np_img[i] != zero_mask) if axis == 0 else np.sum(np_img[:, i] != zero_mask) if axis == 1 else np.sum(np_img[:, :, i] != zero_mask) \n",
    "        if plane == 0: \n",
    "            del_inds.append(i)\n",
    "            if save_i + 1 != i: continuity_warning += 1\n",
    "            save_i = i\n",
    "\n",
    "    # cannot allow two breakpoints in del_inds\n",
    "    if continuity_warning >= 2: print(f'\\x1b[31m broken del_inds: {path} \\n axis: {axis} \\x1b[0m') \n",
    "        \n",
    "    # remove empty slices\n",
    "    np_img = np.delete(np.swapaxes(np_img, 0, axis), del_inds, 0)\n",
    "    return np.swapaxes(np_img, 0, axis)\n",
    "\n",
    "    # add padding\n",
    "    #     np_img = np.insert(np_img, [0 for i in range(padding)], zero_mask, 0)\n",
    "    #     np_img = np.insert(np_img, [len(np_img) for i in range(padding)], zero_mask, 0)\n",
    "    \n",
    "# clean the 0-intensity space surrounding the brain\n",
    "def clean_space(root, f):\n",
    "    mgz_path = rf'{root}/{f}'\n",
    "    nii_path = rf'{root}/image.nii'\n",
    "    img = nib.load(mgz_path)\n",
    "    np_img = np.array(img.get_fdata())\n",
    "    arr = range(0, 64, 64 // 15)\n",
    "    \n",
    "    #clean axes\n",
    "#     np_img = clean_axis(np_img, mgz_path, axis=0)\n",
    "#     np_img = clean_axis(np_img, mgz_path, axis=1)\n",
    "#     np_img = clean_axis(np_img, mgz_path, axis=2)\n",
    "    \n",
    "    # write to disk\n",
    "    feat = nib.Nifti1Image(np_img, img.affine, img.header)\n",
    "    nib.save(feat, nii_path)\n",
    "\n",
    "    #show image\n",
    "    img = nib.load(nii_path)\n",
    "    np_img = np.array(img.get_fdata())\n",
    "    data = resize(np_img, (64, 64, 64), mode='constant')\n",
    "    data_nii = nib.Nifti1Image(data, np.eye(4))\n",
    "    plotting.plot_img(data_nii,cut_coords=arr,draw_cross=False,annotate=False,black_bg=True,display_mode='x')\n",
    "    plotting.plot_img(data_nii,cut_coords=arr,draw_cross=False,annotate=False,black_bg=True,display_mode='y')\n",
    "    plotting.plot_img(data_nii,cut_coords=arr,draw_cross=False,annotate=False,black_bg=True,display_mode='z')\n",
    "    plotting.show()\n",
    "\n",
    "    \n",
    "clean_space(path, 'brainmask.mgz')"
   ]
  },
  {
   "cell_type": "code",
   "execution_count": null,
   "metadata": {},
   "outputs": [],
   "source": []
  },
  {
   "cell_type": "code",
   "execution_count": null,
   "metadata": {},
   "outputs": [],
   "source": []
  }
 ],
 "metadata": {
  "kernelspec": {
   "display_name": "Python 3",
   "language": "python",
   "name": "python3"
  },
  "language_info": {
   "codemirror_mode": {
    "name": "ipython",
    "version": 3
   },
   "file_extension": ".py",
   "mimetype": "text/x-python",
   "name": "python",
   "nbconvert_exporter": "python",
   "pygments_lexer": "ipython3",
   "version": "3.8.3"
  },
  "varInspector": {
   "cols": {
    "lenName": 16,
    "lenType": 16,
    "lenVar": 40
   },
   "kernels_config": {
    "python": {
     "delete_cmd_postfix": "",
     "delete_cmd_prefix": "del ",
     "library": "var_list.py",
     "varRefreshCmd": "print(var_dic_list())"
    },
    "r": {
     "delete_cmd_postfix": ") ",
     "delete_cmd_prefix": "rm(",
     "library": "var_list.r",
     "varRefreshCmd": "cat(var_dic_list()) "
    }
   },
   "types_to_exclude": [
    "module",
    "function",
    "builtin_function_or_method",
    "instance",
    "_Feature"
   ],
   "window_display": false
  }
 },
 "nbformat": 4,
 "nbformat_minor": 2
}
